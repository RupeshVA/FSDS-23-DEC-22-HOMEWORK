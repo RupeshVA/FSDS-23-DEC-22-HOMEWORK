{
 "cells": [
  {
   "cell_type": "code",
   "execution_count": null,
   "id": "cfe9dff1",
   "metadata": {},
   "outputs": [],
   "source": [
    "#1 . you have to write a fun which will take string and return a len of it without using a inbuilt fun len\n",
    "#2 . write a fun which will be able to print an index of all premitive element which you will pass \n",
    "#3 . Write a fun which will take input as a dict and give me out as a list of all the values \n",
    "#even in case of 2 level nesting it should work . \n",
    "#4 . write a fun which will take another function as an input and return me an output \n",
    "#5. write a function which will take multiple list as ainput and give me concatnation of all the element as  \n",
    "#and output \n",
    "#6. write a function which will be able to take a list as an input return an index of each element like a inbuilt index function but even if we have repetative element it should return index \n",
    "#7 . Write a function which will whould return list of all the file name from a directory . \n",
    "8  . write a function which will be able to show your system configuration . \n",
    "9 . write a function which will be able to show date and time  . \n",
    "10 . write a function whihc will be able to read a image file and show it to you .\n",
    "11 . write a function which can read video file and play for you . \n",
    "#12  . write a function which can move a file from one directory to another directory . \n",
    "13 . write a function which will be able to shutdonw your system . \n",
    "14 . write a function whihc will be able to access your mail . \n",
    "15 . write a func bywhcih i can send a mail to anyone \n",
    "16. write a func to read a complete PDf file . \n",
    "17. write a function to read a word file . \n",
    "18 . write a function which can help you to filter only word file from a directory . \n",
    "19 . write a function by which you can print an ip address of your system . \n",
    "20 . write a function by whihc you will be able to append two PDF files . "
   ]
  },
  {
   "cell_type": "code",
   "execution_count": 2,
   "id": "9a526649",
   "metadata": {},
   "outputs": [],
   "source": [
    "def fun1(a):\n",
    "    count = 0\n",
    "    if type(a) == str:\n",
    "        for i in a:\n",
    "            count = count + 1\n",
    "        return count\n",
    "    else :\n",
    "        return(\"it is not a string\") "
   ]
  },
  {
   "cell_type": "code",
   "execution_count": 5,
   "id": "6d5f89b5",
   "metadata": {},
   "outputs": [],
   "source": [
    "def fun2(c):\n",
    "    \"\"\" Function will print an index of all premitive element which you will pass\"\"\"\n",
    "    a = -1\n",
    "    for i in c:\n",
    "        a = a + 1\n",
    "        print (a, i)"
   ]
  },
  {
   "cell_type": "code",
   "execution_count": 7,
   "id": "7e09587e",
   "metadata": {},
   "outputs": [],
   "source": [
    "def fun3(b):\n",
    "    \"\"\"Function will take input as a dict and give a list of all the values \n",
    "even in case of 2 level nesting\"\"\"\n",
    "    l3 =[]\n",
    "    if type(b) == dict :\n",
    "        for i in b.values():\n",
    "            if type(i) == dict:\n",
    "                for j in i.values() :\n",
    "                    l3.append(j)\n",
    "                return l3\n",
    "            l3.append(i)\n",
    "        return l3\n",
    "            \n",
    "    else:\n",
    "        return \"it is not a dict\""
   ]
  },
  {
   "cell_type": "code",
   "execution_count": 10,
   "id": "6793b03b",
   "metadata": {},
   "outputs": [],
   "source": [
    "def fun4(d):\n",
    "    \"\"\"Function will take another function as an input and return me an output\"\"\"\n",
    "    fun2(d)\n",
    "    return d"
   ]
  },
  {
   "cell_type": "code",
   "execution_count": 11,
   "id": "11ec4867",
   "metadata": {},
   "outputs": [],
   "source": [
    "def fun5(*l2):\n",
    "    \"\"\"Function will take multiple list as ainput and give concatnation of all the element as  \n",
    "and output \"\"\"\n",
    "    l1 = []\n",
    "    for i in l2 :\n",
    "        if type(i) == list :\n",
    "            l1.extend(i)\n",
    "        else :\n",
    "            return \"Please enter list type data\"\n",
    "    return l1"
   ]
  },
  {
   "cell_type": "code",
   "execution_count": 14,
   "id": "9b11a7ba",
   "metadata": {},
   "outputs": [],
   "source": [
    "def fun6(c):\n",
    "    \"\"\" Function will be able to take a list as an input return an index of each element \"\"\"\n",
    "    a = -1\n",
    "    for i in c:\n",
    "        a = a + 1\n",
    "        print (a, i)"
   ]
  },
  {
   "cell_type": "code",
   "execution_count": 18,
   "id": "6945bc37",
   "metadata": {},
   "outputs": [],
   "source": [
    "def fun7(f):\n",
    "    \"\"\"Funtion will return list of all the file name from a directory\"\"\"\n",
    "    import os\n",
    "    os.chdir(f)\n",
    "    l = []\n",
    "    for i in os.listdir():\n",
    "        l.append(i)\n",
    "    return l"
   ]
  },
  {
   "cell_type": "code",
   "execution_count": 20,
   "id": "1a7d7bc8",
   "metadata": {},
   "outputs": [],
   "source": [
    "def fun12(m,n):\n",
    "    \"\"\"Function will move a file from one directory to another\"\"\"\n",
    "    import os\n",
    "    os.chdir(m)\n",
    "    import shutil\n",
    "    for m1 in (os.listdir()):\n",
    "        shutil.move(m1,n)  "
   ]
  },
  {
   "cell_type": "code",
   "execution_count": null,
   "id": "df995afc",
   "metadata": {},
   "outputs": [],
   "source": []
  }
 ],
 "metadata": {
  "kernelspec": {
   "display_name": "Python 3 (ipykernel)",
   "language": "python",
   "name": "python3"
  },
  "language_info": {
   "codemirror_mode": {
    "name": "ipython",
    "version": 3
   },
   "file_extension": ".py",
   "mimetype": "text/x-python",
   "name": "python",
   "nbconvert_exporter": "python",
   "pygments_lexer": "ipython3",
   "version": "3.9.7"
  }
 },
 "nbformat": 4,
 "nbformat_minor": 5
}
